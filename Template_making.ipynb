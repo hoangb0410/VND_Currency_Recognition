{
 "cells": [
  {
   "cell_type": "code",
   "execution_count": 3,
   "id": "c89a6392",
   "metadata": {},
   "outputs": [],
   "source": [
    "import cv2\n",
    "import numpy as np \n",
    "import math\n",
    "import glob\n",
    "from matplotlib import pyplot as plt"
   ]
  },
  {
   "cell_type": "code",
   "execution_count": 18,
   "id": "7b9bfc87",
   "metadata": {},
   "outputs": [
    {
     "name": "stdout",
     "output_type": "stream",
     "text": [
      "['dataset\\\\500000\\\\1633072080426.jpg', 'dataset\\\\500000\\\\1633072090718.jpg', 'dataset\\\\500000\\\\1633072122434.jpg', 'dataset\\\\500000\\\\1633072138062.jpg', 'dataset\\\\500000\\\\1633072154074.jpg', 'dataset\\\\500000\\\\1633072160646.jpg', 'dataset\\\\500000\\\\1633072180274.jpg', 'dataset\\\\500000\\\\1633072190597.jpg', 'dataset\\\\500000\\\\1633072210562.jpg', 'dataset\\\\500000\\\\1633072216861.jpg', 'dataset\\\\500000\\\\1633072221697.jpg', 'dataset\\\\500000\\\\1633072227501.jpg', 'dataset\\\\500000\\\\1633072236217.jpg', 'dataset\\\\500000\\\\1633072253549.jpg', 'dataset\\\\500000\\\\1633072267129.jpg', 'dataset\\\\500000\\\\1633072290309.jpg', 'dataset\\\\500000\\\\1633072309544.jpg', 'dataset\\\\500000\\\\1633072325340.jpg', 'dataset\\\\500000\\\\1633072329800.jpg', 'dataset\\\\500000\\\\1633073226960.jpg', 'dataset\\\\500000\\\\1633073240340.jpg', 'dataset\\\\500000\\\\1633073248416.jpg', 'dataset\\\\500000\\\\1633073267355.jpg', 'dataset\\\\500000\\\\1633073280623.jpg', 'dataset\\\\500000\\\\1633073289163.jpg', 'dataset\\\\500000\\\\1633074317991.jpg', 'dataset\\\\500000\\\\1633074327427.jpg', 'dataset\\\\500000\\\\1633074338967.jpg', 'dataset\\\\500000\\\\1633074367394.jpg', 'dataset\\\\500000\\\\1633074388142.jpg', 'dataset\\\\500000\\\\1633074394586.jpg', 'dataset\\\\500000\\\\1633074419958.jpg', 'dataset\\\\500000\\\\1633074426065.jpg', 'dataset\\\\500000\\\\1633074447110.jpg', 'dataset\\\\500000\\\\1633074457081.jpg', 'dataset\\\\500000\\\\1633074461997.jpg', 'dataset\\\\500000\\\\1633074487497.jpg', 'dataset\\\\500000\\\\1633074492181.jpg', 'dataset\\\\500000\\\\1633074509113.jpg']\n"
     ]
    }
   ],
   "source": [
    "money_template = []\n",
    "money = []\n",
    "files = glob.glob(\"dataset\\\\500000\\\\*.jpg\")\n",
    "print(files)\n",
    "for item in files:\n",
    "    img = cv2.imread(item, 0)\n",
    "    money_template.append(img)"
   ]
  },
  {
   "cell_type": "code",
   "execution_count": 19,
   "id": "af6772e6",
   "metadata": {},
   "outputs": [],
   "source": [
    "for i , im in enumerate(money_template):\n",
    "    img_blur = cv2.blur(im, (5,5))\n",
    "    img_canny = cv2.Canny(img_blur,30, 40)\n",
    "    kernel = np.ones((30,30),np.uint8)\n",
    "    img_closed = cv2.morphologyEx(img_canny, cv2.MORPH_CLOSE, kernel)\n",
    "    contours, _ = cv2.findContours(img_closed,cv2.RETR_EXTERNAL,cv2.CHAIN_APPROX_SIMPLE)\n",
    "    cnt = None\n",
    "    s_max_large = 0\n",
    "    for item in contours:\n",
    "        s = cv2.contourArea(item)\n",
    "        if(s > s_max_large):\n",
    "            s_max_large = s\n",
    "            cnt = item\n",
    "    rect = cv2.minAreaRect(cnt)\n",
    "    box = cv2.boxPoints(rect)\n",
    "    box = np.int0(box)\n",
    "    M = cv2.moments(cnt)\n",
    "    cx = int(M['m10']/M['m00'])\n",
    "    cy = int(M['m01']/M['m00'])\n",
    "    box = cv2.boxPoints(rect)\n",
    "    box = np.int0(box)\n",
    "    #xoay ảnh\n",
    "    angle = rect[2]\n",
    "    RM = cv2.getRotationMatrix2D((cx,cy),angle,1)\n",
    "    # tính độ dài chiều dọc (dist1) và chiều ngang(dist2). \n",
    "    # nếu chiều dọc > chiều ngang đồng tiền nằm dọc khi đó cần trừ đi 90 độ xoay\n",
    "    dist1 = int(math.sqrt((box[1][0]  - box[0][0])**2 + (box[1][1]  - box[0][1])**2))\n",
    "    dist2 = int(math.sqrt((box[3][0]  - box[0][0])**2 + (box[3][1]  - box[0][1])**2))\n",
    "    if(dist1 > dist2):\n",
    "        angle -= 90\n",
    "    rows, cols = img.shape\n",
    "    # thực hiện xoay lại ảnh\n",
    "    RM = cv2.getRotationMatrix2D((cx,cy),angle,1)\n",
    "    img_rotated = cv2.warpAffine(im,RM,(cols,rows))\n",
    "    img_blur2 = cv2.blur(img_rotated, (5,5))\n",
    "    img_canny2 = cv2.Canny(img_blur2,30, 40)\n",
    "    kernel2 = np.ones((30,30),np.uint8)\n",
    "    img_closed2 = cv2.morphologyEx(img_canny2, cv2.MORPH_CLOSE, kernel2)\n",
    "    contours2, _ = cv2.findContours(img_closed2,cv2.RETR_EXTERNAL,cv2.CHAIN_APPROX_SIMPLE)\n",
    "    cnt2 = None\n",
    "    s_max_large2 = 0\n",
    "    for item in contours2:\n",
    "        s = cv2.contourArea(item)\n",
    "        if(s > s_max_large2):\n",
    "            s_max_large2 = s\n",
    "            cnt2 = item\n",
    "    x,y,w,h = cv2.boundingRect(cnt2)\n",
    "    img_money = img_rotated[y:y+h, x:x+w]\n",
    "    money.append(img_money)\n",
    "    i1=str(i+9)\n",
    "    cv2.imwrite(\"template\\\\out1\\\\\" + \"500(\"+i1+\").png\", im)"
   ]
  },
  {
   "cell_type": "code",
   "execution_count": null,
   "id": "bda61926",
   "metadata": {},
   "outputs": [],
   "source": []
  }
 ],
 "metadata": {
  "kernelspec": {
   "display_name": "Python 3 (ipykernel)",
   "language": "python",
   "name": "python3"
  },
  "language_info": {
   "codemirror_mode": {
    "name": "ipython",
    "version": 3
   },
   "file_extension": ".py",
   "mimetype": "text/x-python",
   "name": "python",
   "nbconvert_exporter": "python",
   "pygments_lexer": "ipython3",
   "version": "3.10.9"
  }
 },
 "nbformat": 4,
 "nbformat_minor": 5
}
